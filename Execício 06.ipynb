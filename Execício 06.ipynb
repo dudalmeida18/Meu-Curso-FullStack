{
 "cells": [
  {
   "cell_type": "code",
   "execution_count": 6,
   "metadata": {},
   "outputs": [
    {
     "name": "stdout",
     "output_type": "stream",
     "text": [
      "o maior numero é 7.\n"
     ]
    }
   ],
   "source": [
    "#Questão 01\n",
    "num1 = int(input(\"digite o primeiro numero\"))\n",
    "num2 = int(input(\"digite o segundo numero\"))\n",
    "if num1 > num2:\n",
    "        print(f\"o maior numero é {num1}.\")\n",
    "elif num2 > num1:\n",
    "        print(f\"o maior numero é {num2}.\")\n",
    "else:\n",
    "        print(\"os dois numeros são iguais.\")\n",
    "        "
   ]
  },
  {
   "cell_type": "code",
   "execution_count": 22,
   "metadata": {},
   "outputs": [
    {
     "name": "stdout",
     "output_type": "stream",
     "text": [
      "o maior numero é 9, e o menor numero e 3.\n"
     ]
    }
   ],
   "source": [
    "#Questão 02\n",
    "num1 = int(input(\"digite o primeiro numero\"))\n",
    "num2 = int(input(\"digite o segundo numero\"))\n",
    "num3 = int(input(\"digite o terceiro numero\"))\n",
    "maior = max(num1,num2,num3)\n",
    "menor = min(num1,num2,num3)\n",
    "print(f\"o maior numero é {maior}, e o menor numero e {menor}.\")"
   ]
  },
  {
   "cell_type": "code",
   "execution_count": 29,
   "metadata": {},
   "outputs": [
    {
     "name": "stdout",
     "output_type": "stream",
     "text": [
      "a letra b é uma consoante: \n"
     ]
    }
   ],
   "source": [
    "#Questão 03\n",
    "letra = input(\"digite a letra\")\n",
    "vogal = \"aeiou\"\n",
    "if letra in vogal:\n",
    "    print(f\"a letra {letra } é uma vogal: \")\n",
    "else:\n",
    "    print(f\"a letra {letra } é uma consoante: \")"
   ]
  },
  {
   "cell_type": "code",
   "execution_count": 33,
   "metadata": {},
   "outputs": [
    {
     "name": "stdout",
     "output_type": "stream",
     "text": [
      "o aluno foi aprovado 7.0\n"
     ]
    }
   ],
   "source": [
    " #Questão 04\n",
    "nota = float(input(\"Digite a nota do aluno (de 0 a 10): \"))\n",
    "if nota < 0 or nota > 10:\n",
    "    print(\"digite uma nota entre 0 e 10.\")\n",
    "else:\n",
    "    if nota >= 6:\n",
    "        print(f\"o aluno foi aprovado {nota}\")\n",
    "    else:\n",
    "        print(f\"o aluno foi reprovado nota {nota}\")"
   ]
  },
  {
   "cell_type": "code",
   "execution_count": 34,
   "metadata": {},
   "outputs": [
    {
     "name": "stdout",
     "output_type": "stream",
     "text": [
      "Tabuada do 8:\n",
      "8 x 1 = 8\n",
      "8 x 2 = 16\n",
      "8 x 3 = 24\n",
      "8 x 4 = 32\n",
      "8 x 5 = 40\n",
      "8 x 6 = 48\n",
      "8 x 7 = 56\n",
      "8 x 8 = 64\n",
      "8 x 9 = 72\n",
      "8 x 10 = 80\n"
     ]
    }
   ],
   "source": [
    "#Questão 05\n",
    "numero = int(input(\"Digite um número para ver sua tabuada: \"))\n",
    "print(f\"Tabuada do {numero}:\")\n",
    "for i in range(1, 11):\n",
    "    resultado = numero * i\n",
    "    print(f\"{numero} x {i} = {resultado}\")\n"
   ]
  }
 ],
 "metadata": {
  "kernelspec": {
   "display_name": "Python 3",
   "language": "python",
   "name": "python3"
  },
  "language_info": {
   "codemirror_mode": {
    "name": "ipython",
    "version": 3
   },
   "file_extension": ".py",
   "mimetype": "text/x-python",
   "name": "python",
   "nbconvert_exporter": "python",
   "pygments_lexer": "ipython3",
   "version": "3.12.3"
  }
 },
 "nbformat": 4,
 "nbformat_minor": 2
}
