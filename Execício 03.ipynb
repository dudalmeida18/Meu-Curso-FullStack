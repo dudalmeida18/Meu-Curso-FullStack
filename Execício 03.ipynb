{
 "cells": [
  {
   "cell_type": "code",
   "execution_count": 2,
   "metadata": {},
   "outputs": [
    {
     "name": "stdout",
     "output_type": "stream",
     "text": [
      "Duda\n",
      "18\n",
      "<class 'int'>\n",
      "10\n"
     ]
    }
   ],
   "source": [
    "nome = input(\"digite seu nome: \")\n",
    "print(nome)\n",
    "idade = input(\"digite a sua idade: \")\n",
    "print(idade)\n",
    "nota = int(input(\"digite sua nota: \"))\n",
    "print(type(nota))\n",
    "print(nota)"
   ]
  },
  {
   "cell_type": "code",
   "execution_count": 12,
   "metadata": {},
   "outputs": [
    {
     "name": "stdout",
     "output_type": "stream",
     "text": [
      "Olá! Meu meu nome é Eduarda . Eu tenho 19 anos e moro em Teresina. \n"
     ]
    }
   ],
   "source": [
    "nome = \"Eduarda\"\n",
    "idade = 19\n",
    "cidade = \"Teresina\"\n",
    "informacao = (f\"Olá! Meu meu nome é {nome} . Eu tenho {idade} anos e moro em {cidade}. \")\n",
    "print (informacao)"
   ]
  },
  {
   "cell_type": "code",
   "execution_count": 22,
   "metadata": {},
   "outputs": [
    {
     "name": "stdout",
     "output_type": "stream",
     "text": [
      "Você possui 19\n"
     ]
    }
   ],
   "source": [
    "ano_nascimento = 2005\n",
    "ano_atual = 2024 - ano_nascimento\n",
    "print (f\"Você possui {ano_atual}\")\n"
   ]
  },
  {
   "cell_type": "code",
   "execution_count": null,
   "metadata": {},
   "outputs": [],
   "source": []
  }
 ],
 "metadata": {
  "kernelspec": {
   "display_name": "Python 3",
   "language": "python",
   "name": "python3"
  },
  "language_info": {
   "codemirror_mode": {
    "name": "ipython",
    "version": 3
   },
   "file_extension": ".py",
   "mimetype": "text/x-python",
   "name": "python",
   "nbconvert_exporter": "python",
   "pygments_lexer": "ipython3",
   "version": "3.12.3"
  }
 },
 "nbformat": 4,
 "nbformat_minor": 2
}
