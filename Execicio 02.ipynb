{
 "cells": [
  {
   "cell_type": "code",
   "execution_count": 5,
   "metadata": {},
   "outputs": [
    {
     "name": "stdout",
     "output_type": "stream",
     "text": [
      "Eduarda\n"
     ]
    }
   ],
   "source": [
    "#Questão 1\n",
    "nome = input(\"seu nome e\")\n",
    "print (nome)"
   ]
  },
  {
   "cell_type": "code",
   "execution_count": 4,
   "metadata": {},
   "outputs": [
    {
     "name": "stdout",
     "output_type": "stream",
     "text": [
      "seu nome e Eduarda sua idade e 18 anos\n"
     ]
    }
   ],
   "source": [
    "#Questão 2\n",
    "nome = input(\"digite seu nome\")\n",
    "idade = int(input(\"digite sua idade\"))\n",
    "print (f\"seu nome e {nome} sua idade e {idade} anos\")"
   ]
  },
  {
   "cell_type": "code",
   "execution_count": 9,
   "metadata": {},
   "outputs": [
    {
     "name": "stdout",
     "output_type": "stream",
     "text": [
      "a soma de 2.0 + 10.0 é igual a: 12.0\n"
     ]
    }
   ],
   "source": [
    "#Questão 3\n",
    "n1 = float(input(\"digite o primeiro numero: \"))\n",
    "n2 = float(input(\"digite o segundo numero: \"))\n",
    "resultado = n1 + n2\n",
    "print(f\"a soma de {n1} + {n2} é igual a: {resultado}\")\n",
    "\n"
   ]
  },
  {
   "cell_type": "code",
   "execution_count": 21,
   "metadata": {},
   "outputs": [
    {
     "name": "stdout",
     "output_type": "stream",
     "text": [
      "sua idade atual e 19 anos\n"
     ]
    }
   ],
   "source": [
    "#Questão 4\n",
    "ano_nascimento = int(input(\"digite seu ano de nascimento\"))\n",
    "ano_atual = int(input(\"digite o ano atual \")) \n",
    "idade = ano_atual - ano_nascimento\n",
    "print(f\"sua idade atual e {idade} anos\")"
   ]
  },
  {
   "cell_type": "code",
   "execution_count": 16,
   "metadata": {},
   "outputs": [
    {
     "name": "stdout",
     "output_type": "stream",
     "text": [
      "a temperatura 40.0 convertida em fahrenheit 104.0\n"
     ]
    }
   ],
   "source": [
    "#Questão 5\n",
    "c = float(input(\"digite a temperatura em celsius: \"))\n",
    "f = c * 9/5 +32\n",
    "print(f\"a temperatura {c} convertida em fahrenheit {f}\")\n"
   ]
  }
 ],
 "metadata": {
  "kernelspec": {
   "display_name": "Python 3",
   "language": "python",
   "name": "python3"
  },
  "language_info": {
   "codemirror_mode": {
    "name": "ipython",
    "version": 3
   },
   "file_extension": ".py",
   "mimetype": "text/x-python",
   "name": "python",
   "nbconvert_exporter": "python",
   "pygments_lexer": "ipython3",
   "version": "3.12.3"
  }
 },
 "nbformat": 4,
 "nbformat_minor": 2
}
