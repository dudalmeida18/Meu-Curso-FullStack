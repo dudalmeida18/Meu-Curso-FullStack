{
 "cells": [
  {
   "cell_type": "code",
   "execution_count": 5,
   "metadata": {},
   "outputs": [
    {
     "name": "stdout",
     "output_type": "stream",
     "text": [
      "Eduarda\n"
     ]
    }
   ],
   "source": [
    "#Questão 1\n",
    "nome = input(\"seu nome e\")\n",
    "print (nome)"
   ]
  },
  {
   "cell_type": "code",
   "execution_count": 4,
   "metadata": {},
   "outputs": [
    {
     "name": "stdout",
     "output_type": "stream",
     "text": [
      "seu nome e Eduarda sua idade e 18 anos\n"
     ]
    }
   ],
   "source": [
    "#Questão 2\n",
    "nome = input(\"digite seu nome\")\n",
    "idade = int(input(\"digite sua idade\"))\n",
    "print (f\"seu nome e {nome} sua idade e {idade} anos\")"
   ]
  },
  {
   "cell_type": "code",
   "execution_count": 9,
   "metadata": {},
   "outputs": [
    {
     "name": "stdout",
     "output_type": "stream",
     "text": [
      "a soma de 2.0 + 10.0 é igual a: 12.0\n"
     ]
    }
   ],
   "source": [
    "#Questão 3\n",
    "n1 = float(input(\"digite o primeiro numero: \"))\n",
    "n2 = float(input(\"digite o segundo numero: \"))\n",
    "resultado = n1 + n2\n",
    "print(f\"a soma de {n1} + {n2} é igual a: {resultado}\")\n",
    "\n"
   ]
  },
  {
   "cell_type": "code",
   "execution_count": 21,
   "metadata": {},
   "outputs": [
    {
     "name": "stdout",
     "output_type": "stream",
     "text": [
      "sua idade atual e 19 anos\n"
     ]
    }
   ],
   "source": [
    "#Questão 4\n",
    "ano_nascimento = int(input(\"digite seu ano de nascimento\"))\n",
    "ano_atual = int(input(\"digite o ano atual \")) \n",
    "idade = ano_atual - ano_nascimento\n",
    "print(f\"sua idade atual e {idade} anos\")"
   ]
  },
  {
   "cell_type": "code",
   "execution_count": 16,
   "metadata": {},
   "outputs": [
    {
     "name": "stdout",
     "output_type": "stream",
     "text": [
      "a temperatura 40.0 convertida em fahrenheit 104.0\n"
     ]
    }
   ],
   "source": [
    "#Questão 5\n",
    "c = float(input(\"digite a temperatura em celsius: \"))\n",
    "f = c * 9/5 +32\n",
    "print(f\"a temperatura {c} convertida em fahrenheit {f}\")\n"
   ]
  },
  {
   "cell_type": "code",
   "execution_count": 9,
   "metadata": {},
   "outputs": [
    {
     "name": "stdout",
     "output_type": "stream",
     "text": [
      "você está em idade ativa\n"
     ]
    }
   ],
   "source": [
    "#Exrcício 1\n",
    "idade = int(input(\"qual sua idade\" ))\n",
    "if idade > 18 and idade < 65:\n",
    "    print(\"você está em idade ativa\")\n",
    "else:\n",
    "    print(\"voce não está em idade ativa\")\n"
   ]
  },
  {
   "cell_type": "code",
   "execution_count": 14,
   "metadata": {},
   "outputs": [
    {
     "name": "stdout",
     "output_type": "stream",
     "text": [
      "o numero que e par e maior que 10\n"
     ]
    }
   ],
   "source": [
    "#Exercício 2\n",
    "numero = int(input(\"digite um numero\"))\n",
    "if numero %2 == 0 and numero > 10:\n",
    "    print(\"o numero que e par e maior que 10\")\n",
    "else:\n",
    "    print(\" o numero não atente as condições\")"
   ]
  },
  {
   "cell_type": "code",
   "execution_count": 21,
   "metadata": {},
   "outputs": [
    {
     "name": "stdout",
     "output_type": "stream",
     "text": [
      "aprovado. \n"
     ]
    }
   ],
   "source": [
    "#Exercício 3\n",
    "nota = int(input(\"digite sua nota\"))\n",
    "if nota >= 7 and nota <= 10:\n",
    "    print(\"aprovado. \")\n",
    "elif nota < 7 and nota >= 5:\n",
    "    print (\"recuperação. \")\n",
    "elif nota <5:   \n",
    "    print (\"reprovado. \")"
   ]
  },
  {
   "cell_type": "code",
   "execution_count": 25,
   "metadata": {},
   "outputs": [
    {
     "name": "stdout",
     "output_type": "stream",
     "text": [
      "o numero está no intervalo. \n"
     ]
    }
   ],
   "source": [
    "#Exercício 4\n",
    "numero = int(input(\"digite um numero: \"))\n",
    "if numero < 101:\n",
    "    print(\"o numero está no intervalo. \")\n",
    "else:\n",
    "    print(\"o numero está fora do intervalo\")\n",
    "    "
   ]
  },
  {
   "cell_type": "code",
   "execution_count": 30,
   "metadata": {},
   "outputs": [
    {
     "name": "stdout",
     "output_type": "stream",
     "text": [
      "login bem-sucedido \n"
     ]
    }
   ],
   "source": [
    "#Exercício 5\n",
    "usuario = (input(\"insira o nome de usuario: \"))\n",
    "senha = int(input(\"digite a senha: \"))\n",
    "if usuario == \"admin\" and senha == 1979:\n",
    "    print(\"login bem-sucedido \")\n",
    "else:\n",
    "     print(\"nome de usuario ou senha incorertos,\")"
   ]
  },
  {
   "cell_type": "code",
   "execution_count": 36,
   "metadata": {},
   "outputs": [
    {
     "name": "stdout",
     "output_type": "stream",
     "text": [
      "atenção: temperatura extrema. \n"
     ]
    }
   ],
   "source": [
    "#Exercício 6\n",
    "temp_atual = float\n",
    "(input(\"digitr a temperatura anual: \"))\n",
    "if temp_atual > 30 or temp_atual < 10:\n",
    "     print(\"atenção: temperatura extrema. \")\n",
    "else:\n",
    "      print(\"temperatura normal. \")"
   ]
  },
  {
   "cell_type": "code",
   "execution_count": 45,
   "metadata": {},
   "outputs": [
    {
     "name": "stdout",
     "output_type": "stream",
     "text": [
      "você pode votar. \n"
     ]
    }
   ],
   "source": [
    "#Exrcício 7\n",
    "idade = int(input(\"insira sua idade \"))\n",
    "titulo = (input(\"você tem titulo? \"))\n",
    "if idade >= 18 or título == \"sim\":\n",
    " print(\"você pode votar. \")\n",
    "else:\n",
    " print(\"você não pode votar. \")"
   ]
  },
  {
   "cell_type": "code",
   "execution_count": 46,
   "metadata": {},
   "outputs": [
    {
     "name": "stdout",
     "output_type": "stream",
     "text": [
      "o numero esta em um dos intervalos.\n"
     ]
    }
   ],
   "source": [
    "#Exrcício 8\n",
    "numero = int(input(\"digite um numero: \"))\n",
    "if numero < 31:\n",
    "    print(\"o numero esta em um dos intervalos.\")\n",
    "else:\n",
    "    print(\"o numero esta fora dos intervalos. \")"
   ]
  },
  {
   "cell_type": "code",
   "execution_count": 49,
   "metadata": {},
   "outputs": [
    {
     "name": "stdout",
     "output_type": "stream",
     "text": [
      "acesso permitido\n"
     ]
    }
   ],
   "source": [
    "#Exercício 9\n",
    "idade = int(input(\"digite sus idade: \"))\n",
    "permissao = (input(\"você tem permissão dos pais? \"))\n",
    "if idade >= 18 or permissao == \"sim\":\n",
    "    print(\"acesso permitido\")\n",
    "else:\n",
    "    print(\"acesso negado. \")"
   ]
  },
  {
   "cell_type": "code",
   "execution_count": 50,
   "metadata": {},
   "outputs": [
    {
     "name": "stdout",
     "output_type": "stream",
     "text": [
      "valor valido. \n"
     ]
    }
   ],
   "source": [
    "#Exercício 10\n",
    "valor = int(input(\"insira um valor: \"))\n",
    "if valor > 0:\n",
    "    print(\"valor valido. \")\n",
    "else:\n",
    "    print(\"valor invalido\")"
   ]
  }
 ],
 "metadata": {
  "kernelspec": {
   "display_name": "Python 3",
   "language": "python",
   "name": "python3"
  },
  "language_info": {
   "codemirror_mode": {
    "name": "ipython",
    "version": 3
   },
   "file_extension": ".py",
   "mimetype": "text/x-python",
   "name": "python",
   "nbconvert_exporter": "python",
   "pygments_lexer": "ipython3",
   "version": "3.12.3"
  }
 },
 "nbformat": 4,
 "nbformat_minor": 2
}
