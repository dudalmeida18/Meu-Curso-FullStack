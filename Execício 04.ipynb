{
 "cells": [
  {
   "cell_type": "code",
   "execution_count": 5,
   "metadata": {},
   "outputs": [
    {
     "name": "stdout",
     "output_type": "stream",
     "text": [
      "correto\n"
     ]
    }
   ],
   "source": [
    "#Questão 01\n",
    "fruta = \"maca\"\n",
    "supossicao = input(\"adivinhe a fruta\")\n",
    "if supossicao == \"maca\":\n",
    "    print(\"correto\")\n",
    "else:\n",
    "    print(\"incorreto\")"
   ]
  },
  {
   "cell_type": "code",
   "execution_count": 12,
   "metadata": {},
   "outputs": [
    {
     "name": "stdout",
     "output_type": "stream",
     "text": [
      "Dentro do intervalo\n"
     ]
    }
   ],
   "source": [
    "#Questão 02\n",
    "num = int(input(\"insira um número: \"))\n",
    "if 1 <= num <= 10:\n",
    "    print(\"dentro do intervalo\")\n",
    "else:\n",
    "    print(\"fora do intervalo\")"
   ]
  },
  {
   "cell_type": "code",
   "execution_count": 13,
   "metadata": {},
   "outputs": [
    {
     "name": "stdout",
     "output_type": "stream",
     "text": [
      "o numero 5 e impar\n"
     ]
    }
   ],
   "source": [
    "#Questão 03\n",
    "num = int(input(\" digite um numero: \"))\n",
    "if num % 2 == 0:\n",
    "    print(f\"o numero {num} e par\")\n",
    "else:\n",
    "    print(f\"o numero {num} e impar\")"
   ]
  },
  {
   "cell_type": "code",
   "execution_count": 23,
   "metadata": {},
   "outputs": [
    {
     "name": "stdout",
     "output_type": "stream",
     "text": [
      "adolescente\n"
     ]
    }
   ],
   "source": [
    "#Questão 04\n",
    "idade = int(input(\"digitesua idade: \"))\n",
    "if idade >= 0 and idade < 13:\n",
    "    print(\"criança\")\n",
    "elif idade >= 13 and idade < 18:\n",
    "    print(\"adolescente\")\n",
    "elif idade >= 18 and idade <65:\n",
    "    print(\"adulto\")\n",
    "else:\n",
    "    print(\"idoso\")\n"
   ]
  },
  {
   "cell_type": "code",
   "execution_count": 26,
   "metadata": {},
   "outputs": [
    {
     "name": "stdout",
     "output_type": "stream",
     "text": [
      "10 * 20 é igual a 200\n"
     ]
    }
   ],
   "source": [
    "#Questão 05\n",
    "numero1 = int(input(\"digite o primeiro numero: \"))\n",
    "numero2 = int(input(\"digite o segundo numero: \"))\n",
    "operacao = input(\"digite a operação matematica:\")\n",
    "if operacao == \"+\":\n",
    "    print(f\"{numero1} {operacao} {numero2} é igual a {numero1 + numero2}\")\n",
    "elif operacao == \"-\":\n",
    "    print(f\"{numero1} {operacao} {numero2} é igual a {numero1 - numero2}\")\n",
    "elif operacao == \"*\":\n",
    "    print(f\"{numero1} {operacao} {numero2} é igual a {numero1 * numero2}\")\n",
    "elif operacao ==\"/\":\n",
    "    print(f\"{numero1} {operacao} {numero2} é igual a {numero1 / numero2}\")\n",
    "else:\n",
    "    print(\"algo deu errado\")"
   ]
  },
  {
   "cell_type": "code",
   "execution_count": 7,
   "metadata": {},
   "outputs": [
    {
     "name": "stdout",
     "output_type": "stream",
     "text": [
      "Aluno aprovado!\n"
     ]
    }
   ],
   "source": [
    "#Questão 06\n",
    "nota1 = float(input(\"Digite a primeira nota: \"))\n",
    "nota2 = float(input(\"Digite a segunda nota: \"))\n",
    "nota3 = float(input(\"Digite a terceira nota: \"))\n",
    "media = (nota1 + nota2 + nota3) / 3\n",
    "if media >= 7:\n",
    "    print(\"Aluno aprovado!\")\n",
    "elif media <=5 and media < 7:\n",
    "    print(\"Aluno em recuperação.\")\n",
    "elif media < 5:\n",
    "    print(\" Aluno reprovado\")\n",
    "else:\n",
    "    print(\"Algo deu errado.\")\n"
   ]
  }
 ],
 "metadata": {
  "kernelspec": {
   "display_name": "Python 3",
   "language": "python",
   "name": "python3"
  },
  "language_info": {
   "codemirror_mode": {
    "name": "ipython",
    "version": 3
   },
   "file_extension": ".py",
   "mimetype": "text/x-python",
   "name": "python",
   "nbconvert_exporter": "python",
   "pygments_lexer": "ipython3",
   "version": "3.12.3"
  }
 },
 "nbformat": 4,
 "nbformat_minor": 2
}
